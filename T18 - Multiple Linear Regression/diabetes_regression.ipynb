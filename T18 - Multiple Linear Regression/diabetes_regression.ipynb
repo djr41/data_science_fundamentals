{
 "cells": [
  {
   "cell_type": "markdown",
   "metadata": {},
   "source": [
    "## Task 18 - Diabetes Regression"
   ]
  },
  {
   "cell_type": "code",
   "execution_count": 2,
   "metadata": {},
   "outputs": [],
   "source": [
    "import numpy as np\n",
    "import pandas as pd\n",
    "import matplotlib.pyplot as plt\n",
    "from sklearn.linear_model import LinearRegression\n",
    "import seaborn as sns\n",
    "from sklearn.preprocessing import MinMaxScaler\n",
    "from sklearn.preprocessing import StandardScaler\n",
    "from sklearn.model_selection import train_test_split\n",
    "from sklearn.metrics import r2_score"
   ]
  },
  {
   "cell_type": "markdown",
   "metadata": {},
   "source": [
    "*Read **diabetes_dirty.csv** into your Jupyter Notebook.*\n",
    "\n",
    "Load the dataset."
   ]
  },
  {
   "cell_type": "code",
   "execution_count": 3,
   "metadata": {},
   "outputs": [
    {
     "data": {
      "text/html": [
       "<div>\n",
       "<style scoped>\n",
       "    .dataframe tbody tr th:only-of-type {\n",
       "        vertical-align: middle;\n",
       "    }\n",
       "\n",
       "    .dataframe tbody tr th {\n",
       "        vertical-align: top;\n",
       "    }\n",
       "\n",
       "    .dataframe thead th {\n",
       "        text-align: right;\n",
       "    }\n",
       "</style>\n",
       "<table border=\"1\" class=\"dataframe\">\n",
       "  <thead>\n",
       "    <tr style=\"text-align: right;\">\n",
       "      <th></th>\n",
       "      <th>AGE</th>\n",
       "      <th>SEX</th>\n",
       "      <th>BMI</th>\n",
       "      <th>BP</th>\n",
       "      <th>S1</th>\n",
       "      <th>S2</th>\n",
       "      <th>S3</th>\n",
       "      <th>S4</th>\n",
       "      <th>S5</th>\n",
       "      <th>S6</th>\n",
       "      <th>PROGRESSION</th>\n",
       "    </tr>\n",
       "  </thead>\n",
       "  <tbody>\n",
       "    <tr>\n",
       "      <th>0</th>\n",
       "      <td>59</td>\n",
       "      <td>2</td>\n",
       "      <td>32.1</td>\n",
       "      <td>101.0</td>\n",
       "      <td>157</td>\n",
       "      <td>93.2</td>\n",
       "      <td>38.0</td>\n",
       "      <td>4.0</td>\n",
       "      <td>4.8598</td>\n",
       "      <td>87</td>\n",
       "      <td>151</td>\n",
       "    </tr>\n",
       "    <tr>\n",
       "      <th>1</th>\n",
       "      <td>48</td>\n",
       "      <td>1</td>\n",
       "      <td>21.6</td>\n",
       "      <td>87.0</td>\n",
       "      <td>183</td>\n",
       "      <td>103.2</td>\n",
       "      <td>70.0</td>\n",
       "      <td>3.0</td>\n",
       "      <td>3.8918</td>\n",
       "      <td>69</td>\n",
       "      <td>75</td>\n",
       "    </tr>\n",
       "    <tr>\n",
       "      <th>2</th>\n",
       "      <td>72</td>\n",
       "      <td>2</td>\n",
       "      <td>30.5</td>\n",
       "      <td>93.0</td>\n",
       "      <td>156</td>\n",
       "      <td>93.6</td>\n",
       "      <td>41.0</td>\n",
       "      <td>4.0</td>\n",
       "      <td>4.6728</td>\n",
       "      <td>85</td>\n",
       "      <td>141</td>\n",
       "    </tr>\n",
       "    <tr>\n",
       "      <th>3</th>\n",
       "      <td>24</td>\n",
       "      <td>1</td>\n",
       "      <td>25.3</td>\n",
       "      <td>84.0</td>\n",
       "      <td>198</td>\n",
       "      <td>131.4</td>\n",
       "      <td>40.0</td>\n",
       "      <td>5.0</td>\n",
       "      <td>4.8903</td>\n",
       "      <td>89</td>\n",
       "      <td>206</td>\n",
       "    </tr>\n",
       "    <tr>\n",
       "      <th>4</th>\n",
       "      <td>50</td>\n",
       "      <td>1</td>\n",
       "      <td>23.0</td>\n",
       "      <td>101.0</td>\n",
       "      <td>192</td>\n",
       "      <td>125.4</td>\n",
       "      <td>52.0</td>\n",
       "      <td>4.0</td>\n",
       "      <td>4.2905</td>\n",
       "      <td>80</td>\n",
       "      <td>135</td>\n",
       "    </tr>\n",
       "  </tbody>\n",
       "</table>\n",
       "</div>"
      ],
      "text/plain": [
       "   AGE  SEX   BMI     BP   S1     S2    S3   S4      S5  S6  PROGRESSION\n",
       "0   59    2  32.1  101.0  157   93.2  38.0  4.0  4.8598  87          151\n",
       "1   48    1  21.6   87.0  183  103.2  70.0  3.0  3.8918  69           75\n",
       "2   72    2  30.5   93.0  156   93.6  41.0  4.0  4.6728  85          141\n",
       "3   24    1  25.3   84.0  198  131.4  40.0  5.0  4.8903  89          206\n",
       "4   50    1  23.0  101.0  192  125.4  52.0  4.0  4.2905  80          135"
      ]
     },
     "execution_count": 3,
     "metadata": {},
     "output_type": "execute_result"
    }
   ],
   "source": [
    "df = pd.read_csv('diabetes_dirty.csv')\n",
    "df.head()\n",
    "\n",
    "# look for missing values, the results of .info() shows that we don't have any for this dataset\n",
    "# df.info()"
   ]
  },
  {
   "cell_type": "markdown",
   "metadata": {},
   "source": [
    "### Pre-processing\n",
    "\n",
    "A visual inspection and looking at the distribution of the varibles in the dataset we can see that we have no missing data. Most of the variables are normally distributed. "
   ]
  },
  {
   "cell_type": "code",
   "execution_count": 4,
   "metadata": {},
   "outputs": [
    {
     "name": "stdout",
     "output_type": "stream",
     "text": [
      "Index(['AGE', 'SEX', 'BMI', 'BP', 'S1', 'S2', 'S3', 'S4', 'S5', 'S6',\n",
      "       'PROGRESSION'],\n",
      "      dtype='object')\n"
     ]
    }
   ],
   "source": [
    "print (df.columns)\n",
    "\n",
    "#Take a look at the distribution of the variables in the dataset\n",
    "# for col in df.columns:\n",
    "#     sns.histplot(data = df, x = col)\n",
    "#     plt.show()"
   ]
  },
  {
   "cell_type": "markdown",
   "metadata": {},
   "source": [
    "*Differentiate between the independent variables and the dependent variable, and assign them to variables X and y.*\n",
    "\n",
    "Here we will be using linear regression on multiple features to predict a person’s progression towards diabetes with respect to various attributes about them. Therefore, 'Progression' will be the target (dependent variable) (note that this is continous and so suitable for prediction with a regression model) and the other variables will be the features (independent variable). "
   ]
  },
  {
   "cell_type": "code",
   "execution_count": 5,
   "metadata": {},
   "outputs": [],
   "source": [
    "X = df.drop(\"PROGRESSION\", axis =1) # input matrix\n",
    "y = df[\"PROGRESSION\"] # target vector"
   ]
  },
  {
   "cell_type": "markdown",
   "metadata": {},
   "source": [
    "*Generate training and test sets comprising 80% and 20% of the data,\n",
    "respectively.*"
   ]
  },
  {
   "cell_type": "code",
   "execution_count": 6,
   "metadata": {},
   "outputs": [],
   "source": [
    "X_train, X_test, y_train, y_test = train_test_split(X, y, test_size = 0.2,  random_state=42)"
   ]
  },
  {
   "cell_type": "markdown",
   "metadata": {},
   "source": [
    "### Feature scaling\n",
    "\n",
    "*Investigate the necessity for scaling or normalization of the data. Employ\n",
    "MinMaxScaler and StandardScaler if necessary. Fit these scalers on the\n",
    "training set and apply the fitted scalers to transform both the training and\n",
    "test sets accordingly.*\n",
    "\n",
    "The below plots show that the independent variables are mostly normally distributed, and so are suitable to be scaled with standard scalar. I have chosen to scale all variables with StandardScalar though the code below allows one to have a mixture between MinMaxScaler() and StandardScalar()"
   ]
  },
  {
   "cell_type": "code",
   "execution_count": 7,
   "metadata": {},
   "outputs": [],
   "source": [
    "# Uncomment one or both of the below plotting features to have a look at the distributions of the independent varibles  \n",
    "\n",
    "# sns.pairplot(data=X_train)\n",
    "\n",
    "# for col in X_train.columns:\n",
    "#     sns.histplot(data = X_train, x = col)\n",
    "#     plt.show()"
   ]
  },
  {
   "cell_type": "code",
   "execution_count": 8,
   "metadata": {},
   "outputs": [],
   "source": [
    "# Fit the scalers on training data\n",
    "sc_mm =  MinMaxScaler()\n",
    "sc_mm.fit(X_train)\n",
    "\n",
    "sc_ss = StandardScaler()\n",
    "sc_ss.fit(X_train)\n",
    "\n",
    "# Apply the MinMax scalar on train and test data\n",
    "X_train_mm = sc_mm.transform(X_train)\n",
    "X_test_mm = sc_mm.transform(X_test)\n",
    "\n",
    "# Apply the Standard scalar on train and test data\n",
    "X_train_ss = sc_ss.transform(X_train)\n",
    "X_test_ss = sc_ss.transform(X_test)\n",
    "\n",
    "# Make the default scaling MinMax\n",
    "X_train_scaled=X_train_mm.copy()\n",
    "X_test_scaled=X_test_mm.copy()\n",
    "\n",
    "# Choose the variables to use StandardScalar on\n",
    "# AGE - 0, SEX - 1, BMI - 2, BP - 3, S1 - 4, S2 - 5, S3 - 6, S4 - 7, S5 - 8, S6 - 9,\n",
    "\n",
    "normal_vars=[0,1,2,3,4,5,6,7,8,9]     # These are the variables that will be scaled with StandardScalar()\n",
    "\n",
    "# apply StandardScaling to the normally distributed variables\n",
    "for i in normal_vars:\n",
    "      X_train_scaled[:,i] = X_train_ss[:,i]\n",
    "      X_test_scaled[:,i] = X_test_ss[:,i]"
   ]
  },
  {
   "cell_type": "markdown",
   "metadata": {},
   "source": [
    "### Fit the Linear Regression model\n",
    "\n",
    "*Generate a multiple linear regression model using the training set. Use all\n",
    "of the independent variables.*\n",
    "\n",
    "*Print out the intercept and coefficients of the trained model.*\n",
    "\n",
    "Here we fit a linear regression model to the training set and print out the model intercept and coefficients"
   ]
  },
  {
   "cell_type": "code",
   "execution_count": 9,
   "metadata": {},
   "outputs": [
    {
     "name": "stdout",
     "output_type": "stream",
     "text": [
      "Intercept: 153.7365439093484\n",
      "Coefficients: [  1.75375799 -11.51180908  25.60712144  16.82887167 -44.44885564\n",
      "  24.64095356   7.67697768  13.1387839   35.16119521   2.35136365]\n"
     ]
    }
   ],
   "source": [
    "# create an empty model\n",
    "diabetes_model = LinearRegression()\n",
    "\n",
    "# fit the model\n",
    "diabetes_model.fit(X_train_scaled,y_train)\n",
    "\n",
    "# Extract the model parameters\n",
    "print('Intercept:', diabetes_model.intercept_)\n",
    "print('Coefficients:', diabetes_model.coef_)\n",
    "\n",
    "# # AGE - 0, SEX - 1, BMI - 2, BP - 3, S1 - 4, S2 - 5, S3 - 6, S4 - 7, S5 - 8, S6 - 9,"
   ]
  },
  {
   "cell_type": "markdown",
   "metadata": {},
   "source": [
    "### Predictions\n",
    "\n",
    "*Generate predictions for the test set.*\n",
    "\n",
    "The model is fitted to scaled non-dimensionalised data. To make the interpretation of our predictions more meaningful we would need to reverse transform our independent variables so that they had the same units as the measured values."
   ]
  },
  {
   "cell_type": "code",
   "execution_count": 10,
   "metadata": {},
   "outputs": [
    {
     "data": {
      "image/png": "[encoded data removed]",
      "text/plain": [
       "<Figure size 640x480 with 1 Axes>"
      ]
     },
     "metadata": {},
     "output_type": "display_data"
    }
   ],
   "source": [
    "# Plot the data and model\n",
    "y_pred = diabetes_model.predict(X_test_scaled)\n",
    "\n",
    "# Create line coordinates\n",
    "X_line = np.empty(X_test_scaled.shape)\n",
    "for i in range(X_test_scaled.shape[1]):\n",
    "    X_line[:, i] = np.linspace(np.min(X_test_scaled[:,i]), np.max(X_test_scaled[:,i]), num=X_test_scaled.shape[0])\n",
    "y_line = diabetes_model.predict(X_line)\n",
    "\n",
    "var_num = 2\n",
    "plt.scatter(X_test_scaled[:,var_num],y_test,color = 'b')\n",
    "plt.plot(X_line[:,var_num],y_line,color = 'r')\n",
    "plt.xlabel(f'Independent Variable {var_num} (Normalised)')\n",
    "plt.ylabel('Progression')\n",
    "plt.show()"
   ]
  },
  {
   "cell_type": "markdown",
   "metadata": {},
   "source": [
    "### Evaluation\n",
    "\n",
    "*Compute R-squared for your model on the **test set**.*\n",
    "\n",
    "The R2 score represents the proportion of variance in the target variable that can be explained by the model. An R-squared value close to 1 shows a better fit with the data. The R-squared of 0.4526 is higher than for the simple regression model used in Task 17. "
   ]
  },
  {
   "cell_type": "code",
   "execution_count": 11,
   "metadata": {},
   "outputs": [
    {
     "name": "stdout",
     "output_type": "stream",
     "text": [
      "R-squared: 0.4526\n"
     ]
    }
   ],
   "source": [
    "# R squared score\n",
    "r2= r2_score(y_test,y_pred)\n",
    "print(f\"R-squared: {round(r2,4)}\")"
   ]
  }
 ],
 "metadata": {
  "kernelspec": {
   "display_name": "Python 3",
   "language": "python",
   "name": "python3"
  },
  "language_info": {
   "codemirror_mode": {
    "name": "ipython",
    "version": 3
   },
   "file_extension": ".py",
   "mimetype": "text/x-python",
   "name": "python",
   "nbconvert_exporter": "python",
   "pygments_lexer": "ipython3",
   "version": "3.12.3"
  }
 },
 "nbformat": 4,
 "nbformat_minor": 2
}
