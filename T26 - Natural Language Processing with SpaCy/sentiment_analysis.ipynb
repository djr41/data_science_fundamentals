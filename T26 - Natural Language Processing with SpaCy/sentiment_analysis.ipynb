{
 "cells": [
  {
   "cell_type": "markdown",
   "metadata": {},
   "source": [
    "# Task 26 - Natural Language Processing with spaCy\n",
    "In this task, we develop a Python program that performs sentiment analysis\n",
    "on a dataset of product reviews."
   ]
  },
  {
   "cell_type": "code",
   "execution_count": 10,
   "metadata": {},
   "outputs": [],
   "source": [
    "import pandas as pd\n",
    "import re\n",
    "import spacy  # import spacy\n",
    "from textblob import TextBlob #import TextBlob\n",
    "from sklearn.model_selection import train_test_split\n",
    "import seaborn as sns"
   ]
  },
  {
   "cell_type": "code",
   "execution_count": 11,
   "metadata": {},
   "outputs": [],
   "source": [
    "# load the data set and select the reviews column\n",
    "df = pd.read_csv('amazon_product_reviews.csv',dtype='str')\n",
    "\n",
    "# load the language model\n",
    "nlp = spacy.load(\"en_core_web_md\")"
   ]
  },
  {
   "cell_type": "markdown",
   "metadata": {},
   "source": [
    "### Pre-processing"
   ]
  },
  {
   "cell_type": "code",
   "execution_count": 12,
   "metadata": {},
   "outputs": [],
   "source": [
    "# select the column that contains the reviews and drop any missing values\n",
    "review_data = df['reviews.text'].dropna()\n",
    "\n",
    "# use string methods to switch to lower case and strip white space\n",
    "review_data_cleaned = review_data.str.lower().str.strip()"
   ]
  },
  {
   "cell_type": "code",
   "execution_count": 13,
   "metadata": {},
   "outputs": [],
   "source": [
    "# Function to clean doc in preparation for sentiment analysis.\n",
    "def process_doc(doc):\n",
    "    # lemmatize and filter out stop words\n",
    "    temp_list = [token.lemma_ for token in doc if not token.is_stop]   \n",
    "    # joins list to make string\n",
    "    temp_str = ' '.join(temp_list)                                   \n",
    "    # removes any non alpha numeric characters\n",
    "    temp_str = re.sub('[^a-zA-Z0-9 \\n]', '', temp_str)              \n",
    "    return temp_str\n",
    "\n",
    "# Function to return a doc with TextBlob sentiment attributes from the index of the review\n",
    "def review_sentiment(review_index):\n",
    "     doc = nlp(review_data_cleaned[review_index])\n",
    "     doc = TextBlob(process_doc(doc))\n",
    "     return doc"
   ]
  },
  {
   "cell_type": "markdown",
   "metadata": {},
   "source": [
    "### Sentiment analysis"
   ]
  },
  {
   "cell_type": "code",
   "execution_count": 14,
   "metadata": {},
   "outputs": [
    {
     "name": "stdout",
     "output_type": "stream",
     "text": [
      "The below review has a polarity of 0.70 and a subjectivity of 0.75.        \n",
      "\n",
      "great for beginner or experienced person. Bought as a gift and she loves it\n",
      "\n"
     ]
    }
   ],
   "source": [
    "review_index = 1\n",
    "\n",
    "polarity = review_sentiment(review_index).sentiment.polarity\n",
    "subjectivity = review_sentiment(review_index).sentiment.subjectivity\n",
    "\n",
    "print(f\"The below review has a polarity of {polarity:.2f} and a subjectivity of {subjectivity:.2f}. \\\n",
    "       \\n\\n{review_data[review_index]}\\n\")"
   ]
  },
  {
   "cell_type": "markdown",
   "metadata": {},
   "source": [
    "### Similarity"
   ]
  },
  {
   "cell_type": "code",
   "execution_count": 15,
   "metadata": {},
   "outputs": [
    {
     "name": "stdout",
     "output_type": "stream",
     "text": [
      "The similarity between review 1 and 0 is 0.80\n"
     ]
    }
   ],
   "source": [
    "# function to calculate the similarity between two reviews\n",
    "def review_similarity(r1, r2):\n",
    "    doc1 = nlp(review_data_cleaned[r1])    # review 1\n",
    "    doc2 = nlp(review_data_cleaned[r2])    # review 2\n",
    "    similarity_score = doc1.similarity(doc2)\n",
    "    return similarity_score\n",
    "\n",
    "r1 = review_index # index of review chosen by user\n",
    "r2 = 0 # index of the review to compare similarity with\n",
    "\n",
    "print(f\"The similarity between review {r1} and {r2} is {review_similarity(r1,r2):.2f}\")"
   ]
  },
  {
   "cell_type": "markdown",
   "metadata": {},
   "source": [
    "### Evaluation"
   ]
  },
  {
   "cell_type": "code",
   "execution_count": 16,
   "metadata": {},
   "outputs": [],
   "source": [
    "# switch off warnings for this cell\n",
    "import warnings\n",
    "warnings.filterwarnings('ignore')\n",
    "\n",
    "# take a random 10% test sample \n",
    "X_train, X_test = train_test_split(review_data_cleaned, test_size=0.05, random_state=42)\n",
    "\n",
    "# convert the test sample to a dataframe\n",
    "sentiment_df=X_test.to_frame()\n",
    "\n",
    "# add a new column to the data frame and populate with the sentiment polarity score.\n",
    "sentiment_df['polarity'] = ''\n",
    "sentiment_df['rating'] = ''\n",
    "for el in sentiment_df.index:\n",
    "    sentiment_df['polarity'][el]=round(review_sentiment(el).sentiment.polarity,2)\n",
    "    sentiment_df['rating'][el]=int(df['reviews.rating'][el])\n",
    "\n",
    "sentiment_df = sentiment_df.sort_values(['polarity'], ascending=[False])"
   ]
  },
  {
   "cell_type": "code",
   "execution_count": 17,
   "metadata": {},
   "outputs": [
    {
     "data": {
      "text/plain": [
       "<Axes: xlabel='polarity', ylabel='rating'>"
      ]
     },
     "execution_count": 17,
     "metadata": {},
     "output_type": "execute_result"
    },
    {
     "data": {
      "image/png": "[encoded data removed]",
      "text/plain": [
       "<Figure size 640x480 with 1 Axes>"
      ]
     },
     "metadata": {},
     "output_type": "display_data"
    }
   ],
   "source": [
    "sns.scatterplot(data = sentiment_df, x= 'polarity', y='rating')"
   ]
  },
  {
   "cell_type": "code",
   "execution_count": 18,
   "metadata": {},
   "outputs": [
    {
     "name": "stdout",
     "output_type": "stream",
     "text": [
      "0.3610675129832647\n",
      "0.38\n",
      "0.25998348355447626\n"
     ]
    }
   ],
   "source": [
    "# Calculate some statistics for the report\n",
    "print(sentiment_df['polarity'].mean())\n",
    "print(sentiment_df['polarity'].median())\n",
    "print(sentiment_df['polarity'].std())"
   ]
  }
 ],
 "metadata": {
  "kernelspec": {
   "display_name": "Python 3",
   "language": "python",
   "name": "python3"
  },
  "language_info": {
   "codemirror_mode": {
    "name": "ipython",
    "version": 3
   },
   "file_extension": ".py",
   "mimetype": "text/x-python",
   "name": "python",
   "nbconvert_exporter": "python",
   "pygments_lexer": "ipython3",
   "version": "3.12.3"
  }
 },
 "nbformat": 4,
 "nbformat_minor": 2
}
